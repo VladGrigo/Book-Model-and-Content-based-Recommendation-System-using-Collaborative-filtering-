{
 "cells": [
  {
   "cell_type": "markdown",
   "id": "86a669b7-2561-4d0b-b067-f68b79c7d1f4",
   "metadata": {},
   "source": [
    "# Book Recommender System"
   ]
  },
  {
   "cell_type": "markdown",
   "id": "29fcd28d-7ddc-48e9-b40c-81ac9041265e",
   "metadata": {},
   "source": [
    "We import the necessary libraries for the task "
   ]
  },
  {
   "cell_type": "code",
   "execution_count": 46,
   "id": "dd823c26-ad9a-441c-9e05-2d0730532f7e",
   "metadata": {},
   "outputs": [],
   "source": [
    "import pandas as pd\n",
    "import numpy as np\n",
    "from scipy import sparse\n",
    "from pandas.api.types import CategoricalDtype\n",
    "import seaborn as sns\n",
    "from surprise import Dataset\n",
    "from surprise import Reader\n",
    "from surprise import SVD\n",
    "from surprise.model_selection import cross_validate\n",
    "from surprise.model_selection import GridSearchCV\n",
    "from surprise.model_selection import train_test_split"
   ]
  },
  {
   "cell_type": "markdown",
   "id": "ab9d4ad0-cd0a-4898-b52c-93e4d356889f",
   "metadata": {},
   "source": [
    "The Book-Crossing dataset comprises 3 files.\n",
    "\n",
    "Users\n",
    "- Contains the users. Note that user IDs (User-ID) have been anonymized and map to integers. Demographic data is provided (Location, Age) if available. Otherwise, these fields contain NULL-values.\n",
    "\n",
    "Books\n",
    "- Books are identified by their respective ISBN. Invalid ISBNs have already been removed from the dataset. Moreover, some content-based information is given (Book-Title, Book-Author, Year-Of-Publication, Publisher), obtained from Amazon Web Services. Note that in case of several authors, only the first is provided. URLs linking to cover images are also given, appearing in three different flavours (Image-URL-S, Image-URL-M, Image-URL-L), i.e., small, medium, large. These URLs point to the Amazon web site.\n",
    "\n",
    "Ratings\n",
    "- Contains the book rating information. Ratings (Book-Rating) are either explicit, expressed on a scale from 1-10 (higher values denoting higher appreciation), or implicit, expressed by 0."
   ]
  },
  {
   "cell_type": "code",
   "execution_count": 3,
   "id": "a7ab32fd-5e0e-4fa2-a1bf-bcd3efd97f3a",
   "metadata": {},
   "outputs": [
    {
     "name": "stderr",
     "output_type": "stream",
     "text": [
      "C:\\Users\\vladi\\AppData\\Local\\Temp\\ipykernel_7416\\42244209.py:1: DtypeWarning: Columns (3) have mixed types. Specify dtype option on import or set low_memory=False.\n",
      "  books_dataset= pd.read_csv(\"datasets/Books.csv\", sep=\",\")\n"
     ]
    }
   ],
   "source": [
    "books_dataset= pd.read_csv(\"datasets/Books.csv\", sep=\",\")\n",
    "ratings_dataset= pd.read_csv(\"datasets/Ratings.csv\", sep=\",\")\n",
    "users_dataset= pd.read_csv(\"datasets/Users.csv\", sep=\",\")"
   ]
  },
  {
   "cell_type": "markdown",
   "id": "46460494-0eee-40a9-a33f-15c00da968bc",
   "metadata": {},
   "source": [
    "## Exploratory data analysis"
   ]
  },
  {
   "cell_type": "markdown",
   "id": "67fdc52e-74f5-43a1-9ac8-615a45edfa2f",
   "metadata": {},
   "source": [
    "### Show description of datasets"
   ]
  },
  {
   "cell_type": "code",
   "execution_count": 4,
   "id": "a98f052b-bf0b-48a5-ae2b-157c1f2dcc00",
   "metadata": {},
   "outputs": [
    {
     "data": {
      "text/html": [
       "<div>\n",
       "<style scoped>\n",
       "    .dataframe tbody tr th:only-of-type {\n",
       "        vertical-align: middle;\n",
       "    }\n",
       "\n",
       "    .dataframe tbody tr th {\n",
       "        vertical-align: top;\n",
       "    }\n",
       "\n",
       "    .dataframe thead th {\n",
       "        text-align: right;\n",
       "    }\n",
       "</style>\n",
       "<table border=\"1\" class=\"dataframe\">\n",
       "  <thead>\n",
       "    <tr style=\"text-align: right;\">\n",
       "      <th></th>\n",
       "      <th>ISBN</th>\n",
       "      <th>Book-Title</th>\n",
       "      <th>Book-Author</th>\n",
       "      <th>Year-Of-Publication</th>\n",
       "      <th>Publisher</th>\n",
       "      <th>Image-URL-S</th>\n",
       "      <th>Image-URL-M</th>\n",
       "      <th>Image-URL-L</th>\n",
       "    </tr>\n",
       "  </thead>\n",
       "  <tbody>\n",
       "    <tr>\n",
       "      <th>count</th>\n",
       "      <td>271360</td>\n",
       "      <td>271360</td>\n",
       "      <td>271359</td>\n",
       "      <td>271360</td>\n",
       "      <td>271358</td>\n",
       "      <td>271360</td>\n",
       "      <td>271360</td>\n",
       "      <td>271357</td>\n",
       "    </tr>\n",
       "    <tr>\n",
       "      <th>unique</th>\n",
       "      <td>271360</td>\n",
       "      <td>242135</td>\n",
       "      <td>102023</td>\n",
       "      <td>202</td>\n",
       "      <td>16807</td>\n",
       "      <td>271044</td>\n",
       "      <td>271044</td>\n",
       "      <td>271041</td>\n",
       "    </tr>\n",
       "    <tr>\n",
       "      <th>top</th>\n",
       "      <td>0195153448</td>\n",
       "      <td>Selected Poems</td>\n",
       "      <td>Agatha Christie</td>\n",
       "      <td>2002</td>\n",
       "      <td>Harlequin</td>\n",
       "      <td>http://images.amazon.com/images/P/185326119X.0...</td>\n",
       "      <td>http://images.amazon.com/images/P/185326119X.0...</td>\n",
       "      <td>http://images.amazon.com/images/P/225307649X.0...</td>\n",
       "    </tr>\n",
       "    <tr>\n",
       "      <th>freq</th>\n",
       "      <td>1</td>\n",
       "      <td>27</td>\n",
       "      <td>632</td>\n",
       "      <td>13903</td>\n",
       "      <td>7535</td>\n",
       "      <td>2</td>\n",
       "      <td>2</td>\n",
       "      <td>2</td>\n",
       "    </tr>\n",
       "  </tbody>\n",
       "</table>\n",
       "</div>"
      ],
      "text/plain": [
       "              ISBN      Book-Title      Book-Author  Year-Of-Publication  \\\n",
       "count       271360          271360           271359               271360   \n",
       "unique      271360          242135           102023                  202   \n",
       "top     0195153448  Selected Poems  Agatha Christie                 2002   \n",
       "freq             1              27              632                13903   \n",
       "\n",
       "        Publisher                                        Image-URL-S  \\\n",
       "count      271358                                             271360   \n",
       "unique      16807                                             271044   \n",
       "top     Harlequin  http://images.amazon.com/images/P/185326119X.0...   \n",
       "freq         7535                                                  2   \n",
       "\n",
       "                                              Image-URL-M  \\\n",
       "count                                              271360   \n",
       "unique                                             271044   \n",
       "top     http://images.amazon.com/images/P/185326119X.0...   \n",
       "freq                                                    2   \n",
       "\n",
       "                                              Image-URL-L  \n",
       "count                                              271357  \n",
       "unique                                             271041  \n",
       "top     http://images.amazon.com/images/P/225307649X.0...  \n",
       "freq                                                    2  "
      ]
     },
     "execution_count": 4,
     "metadata": {},
     "output_type": "execute_result"
    }
   ],
   "source": [
    "books_dataset.describe()"
   ]
  },
  {
   "cell_type": "code",
   "execution_count": 5,
   "id": "ad0d7049-5e58-4049-927f-fbd8c60cd2e7",
   "metadata": {},
   "outputs": [
    {
     "data": {
      "text/html": [
       "<div>\n",
       "<style scoped>\n",
       "    .dataframe tbody tr th:only-of-type {\n",
       "        vertical-align: middle;\n",
       "    }\n",
       "\n",
       "    .dataframe tbody tr th {\n",
       "        vertical-align: top;\n",
       "    }\n",
       "\n",
       "    .dataframe thead th {\n",
       "        text-align: right;\n",
       "    }\n",
       "</style>\n",
       "<table border=\"1\" class=\"dataframe\">\n",
       "  <thead>\n",
       "    <tr style=\"text-align: right;\">\n",
       "      <th></th>\n",
       "      <th>User-ID</th>\n",
       "      <th>Book-Rating</th>\n",
       "    </tr>\n",
       "  </thead>\n",
       "  <tbody>\n",
       "    <tr>\n",
       "      <th>count</th>\n",
       "      <td>1.149780e+06</td>\n",
       "      <td>1.149780e+06</td>\n",
       "    </tr>\n",
       "    <tr>\n",
       "      <th>mean</th>\n",
       "      <td>1.403864e+05</td>\n",
       "      <td>2.866950e+00</td>\n",
       "    </tr>\n",
       "    <tr>\n",
       "      <th>std</th>\n",
       "      <td>8.056228e+04</td>\n",
       "      <td>3.854184e+00</td>\n",
       "    </tr>\n",
       "    <tr>\n",
       "      <th>min</th>\n",
       "      <td>2.000000e+00</td>\n",
       "      <td>0.000000e+00</td>\n",
       "    </tr>\n",
       "    <tr>\n",
       "      <th>25%</th>\n",
       "      <td>7.034500e+04</td>\n",
       "      <td>0.000000e+00</td>\n",
       "    </tr>\n",
       "    <tr>\n",
       "      <th>50%</th>\n",
       "      <td>1.410100e+05</td>\n",
       "      <td>0.000000e+00</td>\n",
       "    </tr>\n",
       "    <tr>\n",
       "      <th>75%</th>\n",
       "      <td>2.110280e+05</td>\n",
       "      <td>7.000000e+00</td>\n",
       "    </tr>\n",
       "    <tr>\n",
       "      <th>max</th>\n",
       "      <td>2.788540e+05</td>\n",
       "      <td>1.000000e+01</td>\n",
       "    </tr>\n",
       "  </tbody>\n",
       "</table>\n",
       "</div>"
      ],
      "text/plain": [
       "            User-ID   Book-Rating\n",
       "count  1.149780e+06  1.149780e+06\n",
       "mean   1.403864e+05  2.866950e+00\n",
       "std    8.056228e+04  3.854184e+00\n",
       "min    2.000000e+00  0.000000e+00\n",
       "25%    7.034500e+04  0.000000e+00\n",
       "50%    1.410100e+05  0.000000e+00\n",
       "75%    2.110280e+05  7.000000e+00\n",
       "max    2.788540e+05  1.000000e+01"
      ]
     },
     "execution_count": 5,
     "metadata": {},
     "output_type": "execute_result"
    }
   ],
   "source": [
    "ratings_dataset.describe()"
   ]
  },
  {
   "cell_type": "code",
   "execution_count": 6,
   "id": "4b5605f9-7093-4dc2-9689-4d7d1341efb3",
   "metadata": {},
   "outputs": [
    {
     "data": {
      "text/html": [
       "<div>\n",
       "<style scoped>\n",
       "    .dataframe tbody tr th:only-of-type {\n",
       "        vertical-align: middle;\n",
       "    }\n",
       "\n",
       "    .dataframe tbody tr th {\n",
       "        vertical-align: top;\n",
       "    }\n",
       "\n",
       "    .dataframe thead th {\n",
       "        text-align: right;\n",
       "    }\n",
       "</style>\n",
       "<table border=\"1\" class=\"dataframe\">\n",
       "  <thead>\n",
       "    <tr style=\"text-align: right;\">\n",
       "      <th></th>\n",
       "      <th>User-ID</th>\n",
       "      <th>Age</th>\n",
       "    </tr>\n",
       "  </thead>\n",
       "  <tbody>\n",
       "    <tr>\n",
       "      <th>count</th>\n",
       "      <td>278858.00000</td>\n",
       "      <td>168096.000000</td>\n",
       "    </tr>\n",
       "    <tr>\n",
       "      <th>mean</th>\n",
       "      <td>139429.50000</td>\n",
       "      <td>34.751434</td>\n",
       "    </tr>\n",
       "    <tr>\n",
       "      <th>std</th>\n",
       "      <td>80499.51502</td>\n",
       "      <td>14.428097</td>\n",
       "    </tr>\n",
       "    <tr>\n",
       "      <th>min</th>\n",
       "      <td>1.00000</td>\n",
       "      <td>0.000000</td>\n",
       "    </tr>\n",
       "    <tr>\n",
       "      <th>25%</th>\n",
       "      <td>69715.25000</td>\n",
       "      <td>24.000000</td>\n",
       "    </tr>\n",
       "    <tr>\n",
       "      <th>50%</th>\n",
       "      <td>139429.50000</td>\n",
       "      <td>32.000000</td>\n",
       "    </tr>\n",
       "    <tr>\n",
       "      <th>75%</th>\n",
       "      <td>209143.75000</td>\n",
       "      <td>44.000000</td>\n",
       "    </tr>\n",
       "    <tr>\n",
       "      <th>max</th>\n",
       "      <td>278858.00000</td>\n",
       "      <td>244.000000</td>\n",
       "    </tr>\n",
       "  </tbody>\n",
       "</table>\n",
       "</div>"
      ],
      "text/plain": [
       "            User-ID            Age\n",
       "count  278858.00000  168096.000000\n",
       "mean   139429.50000      34.751434\n",
       "std     80499.51502      14.428097\n",
       "min         1.00000       0.000000\n",
       "25%     69715.25000      24.000000\n",
       "50%    139429.50000      32.000000\n",
       "75%    209143.75000      44.000000\n",
       "max    278858.00000     244.000000"
      ]
     },
     "execution_count": 6,
     "metadata": {},
     "output_type": "execute_result"
    }
   ],
   "source": [
    "users_dataset.describe()"
   ]
  },
  {
   "cell_type": "code",
   "execution_count": 24,
   "id": "261006ce-ce7c-482f-9389-7bbe785c0331",
   "metadata": {},
   "outputs": [
    {
     "data": {
      "text/plain": [
       "278858"
      ]
     },
     "execution_count": 24,
     "metadata": {},
     "output_type": "execute_result"
    }
   ],
   "source": [
    "len(users_dataset[\"User-ID\"].unique())"
   ]
  },
  {
   "cell_type": "code",
   "execution_count": 25,
   "id": "3d37dc5d-b457-44d6-b7a5-573242595fb2",
   "metadata": {},
   "outputs": [
    {
     "data": {
      "text/html": [
       "<div>\n",
       "<style scoped>\n",
       "    .dataframe tbody tr th:only-of-type {\n",
       "        vertical-align: middle;\n",
       "    }\n",
       "\n",
       "    .dataframe tbody tr th {\n",
       "        vertical-align: top;\n",
       "    }\n",
       "\n",
       "    .dataframe thead th {\n",
       "        text-align: right;\n",
       "    }\n",
       "</style>\n",
       "<table border=\"1\" class=\"dataframe\">\n",
       "  <thead>\n",
       "    <tr style=\"text-align: right;\">\n",
       "      <th></th>\n",
       "      <th>User-ID</th>\n",
       "      <th>Location</th>\n",
       "      <th>Age</th>\n",
       "    </tr>\n",
       "  </thead>\n",
       "  <tbody>\n",
       "    <tr>\n",
       "      <th>0</th>\n",
       "      <td>1</td>\n",
       "      <td>nyc, new york, usa</td>\n",
       "      <td>NaN</td>\n",
       "    </tr>\n",
       "    <tr>\n",
       "      <th>1</th>\n",
       "      <td>2</td>\n",
       "      <td>stockton, california, usa</td>\n",
       "      <td>18.0</td>\n",
       "    </tr>\n",
       "    <tr>\n",
       "      <th>2</th>\n",
       "      <td>3</td>\n",
       "      <td>moscow, yukon territory, russia</td>\n",
       "      <td>NaN</td>\n",
       "    </tr>\n",
       "    <tr>\n",
       "      <th>3</th>\n",
       "      <td>4</td>\n",
       "      <td>porto, v.n.gaia, portugal</td>\n",
       "      <td>17.0</td>\n",
       "    </tr>\n",
       "    <tr>\n",
       "      <th>4</th>\n",
       "      <td>5</td>\n",
       "      <td>farnborough, hants, united kingdom</td>\n",
       "      <td>NaN</td>\n",
       "    </tr>\n",
       "  </tbody>\n",
       "</table>\n",
       "</div>"
      ],
      "text/plain": [
       "   User-ID                            Location   Age\n",
       "0        1                  nyc, new york, usa   NaN\n",
       "1        2           stockton, california, usa  18.0\n",
       "2        3     moscow, yukon territory, russia   NaN\n",
       "3        4           porto, v.n.gaia, portugal  17.0\n",
       "4        5  farnborough, hants, united kingdom   NaN"
      ]
     },
     "execution_count": 25,
     "metadata": {},
     "output_type": "execute_result"
    }
   ],
   "source": [
    "users_dataset.head()"
   ]
  },
  {
   "cell_type": "markdown",
   "id": "bcc94aff-2139-44ff-bc9e-e0910bcffe9f",
   "metadata": {},
   "source": [
    "### See if there are null values on the data "
   ]
  },
  {
   "cell_type": "code",
   "execution_count": 13,
   "id": "ea78d3ea-e699-4c79-bfc3-f323daaf791c",
   "metadata": {},
   "outputs": [
    {
     "data": {
      "text/plain": [
       "Text(0.5, 1.0, 'null values on books Dataset')"
      ]
     },
     "execution_count": 13,
     "metadata": {},
     "output_type": "execute_result"
    },
    {
     "data": {
      "image/png": "[encoded data removed]",
      "text/plain": [
       "<Figure size 640x480 with 1 Axes>"
      ]
     },
     "metadata": {},
     "output_type": "display_data"
    }
   ],
   "source": [
    "sns.heatmap(books_dataset.isnull(),yticklabels=False,cbar=False,cmap='viridis').set_title('null values on books Dataset')"
   ]
  },
  {
   "cell_type": "code",
   "execution_count": 17,
   "id": "4b0c7fa1-c51a-4704-90dc-9dd97e46b4fd",
   "metadata": {},
   "outputs": [
    {
     "data": {
      "text/plain": [
       "Text(0.5, 1.0, 'null values on ratings Dataset')"
      ]
     },
     "execution_count": 17,
     "metadata": {},
     "output_type": "execute_result"
    },
    {
     "data": {
      "image/png": "[encoded data removed]",
      "text/plain": [
       "<Figure size 640x480 with 1 Axes>"
      ]
     },
     "metadata": {},
     "output_type": "display_data"
    }
   ],
   "source": [
    "sns.heatmap(ratings_dataset.isnull(),yticklabels=False,cbar=False,cmap='viridis').set_title('null values on ratings Dataset')"
   ]
  },
  {
   "cell_type": "code",
   "execution_count": 16,
   "id": "4dbc1624-8604-4d28-a106-8b8b0402b04e",
   "metadata": {},
   "outputs": [
    {
     "data": {
      "text/plain": [
       "Text(0.5, 1.0, 'null values on users Dataset')"
      ]
     },
     "execution_count": 16,
     "metadata": {},
     "output_type": "execute_result"
    },
    {
     "data": {
      "image/png": "[encoded data removed]",
      "text/plain": [
       "<Figure size 640x480 with 1 Axes>"
      ]
     },
     "metadata": {},
     "output_type": "display_data"
    }
   ],
   "source": [
    "sns.heatmap(users_dataset.isnull(),yticklabels=False,cbar=False,cmap='viridis').set_title('null values on users Dataset')"
   ]
  },
  {
   "cell_type": "markdown",
   "id": "3a6e3b02-29b0-4f26-af68-b02245e0ad97",
   "metadata": {},
   "source": [
    "As we can see, we have several null values on the Age column inside the users dataset. This is fine since we are not using that column for building the recommendation system. "
   ]
  },
  {
   "cell_type": "markdown",
   "id": "88716b3b-bc92-40cf-81d7-dc68b5a83838",
   "metadata": {},
   "source": [
    "## Recommender System building "
   ]
  },
  {
   "cell_type": "markdown",
   "id": "7b3bdada-18f7-4c4b-b037-7d94a571694a",
   "metadata": {},
   "source": [
    "### Content-based recommender system "
   ]
  },
  {
   "cell_type": "markdown",
   "id": "b99de5e0-ed42-4497-ac11-a1d83ec8301c",
   "metadata": {},
   "source": [
    "Content-based filtering uses item features to recommend other items similar to what the user likes, based on their previous actions or explicit feedback."
   ]
  },
  {
   "cell_type": "markdown",
   "id": "145965af-6b88-46d2-b3a6-c2c4b0198a27",
   "metadata": {},
   "source": [
    "We need to merge the books with the user dataset in order to begin constructing the user-item sparse matrix"
   ]
  },
  {
   "cell_type": "code",
   "execution_count": 52,
   "id": "69c46863-d142-4092-8d9d-b65f71852691",
   "metadata": {},
   "outputs": [
    {
     "data": {
      "text/html": [
       "<div>\n",
       "<style scoped>\n",
       "    .dataframe tbody tr th:only-of-type {\n",
       "        vertical-align: middle;\n",
       "    }\n",
       "\n",
       "    .dataframe tbody tr th {\n",
       "        vertical-align: top;\n",
       "    }\n",
       "\n",
       "    .dataframe thead th {\n",
       "        text-align: right;\n",
       "    }\n",
       "</style>\n",
       "<table border=\"1\" class=\"dataframe\">\n",
       "  <thead>\n",
       "    <tr style=\"text-align: right;\">\n",
       "      <th></th>\n",
       "      <th>User-ID</th>\n",
       "      <th>ISBN</th>\n",
       "      <th>Book-Rating</th>\n",
       "      <th>Book-Title</th>\n",
       "      <th>Book-Author</th>\n",
       "      <th>Year-Of-Publication</th>\n",
       "      <th>Publisher</th>\n",
       "    </tr>\n",
       "  </thead>\n",
       "  <tbody>\n",
       "    <tr>\n",
       "      <th>0</th>\n",
       "      <td>276725</td>\n",
       "      <td>034545104X</td>\n",
       "      <td>0</td>\n",
       "      <td>Flesh Tones: A Novel</td>\n",
       "      <td>M. J. Rose</td>\n",
       "      <td>2002</td>\n",
       "      <td>Ballantine Books</td>\n",
       "    </tr>\n",
       "    <tr>\n",
       "      <th>1</th>\n",
       "      <td>2313</td>\n",
       "      <td>034545104X</td>\n",
       "      <td>5</td>\n",
       "      <td>Flesh Tones: A Novel</td>\n",
       "      <td>M. J. Rose</td>\n",
       "      <td>2002</td>\n",
       "      <td>Ballantine Books</td>\n",
       "    </tr>\n",
       "    <tr>\n",
       "      <th>2</th>\n",
       "      <td>6543</td>\n",
       "      <td>034545104X</td>\n",
       "      <td>0</td>\n",
       "      <td>Flesh Tones: A Novel</td>\n",
       "      <td>M. J. Rose</td>\n",
       "      <td>2002</td>\n",
       "      <td>Ballantine Books</td>\n",
       "    </tr>\n",
       "    <tr>\n",
       "      <th>3</th>\n",
       "      <td>8680</td>\n",
       "      <td>034545104X</td>\n",
       "      <td>5</td>\n",
       "      <td>Flesh Tones: A Novel</td>\n",
       "      <td>M. J. Rose</td>\n",
       "      <td>2002</td>\n",
       "      <td>Ballantine Books</td>\n",
       "    </tr>\n",
       "    <tr>\n",
       "      <th>4</th>\n",
       "      <td>10314</td>\n",
       "      <td>034545104X</td>\n",
       "      <td>9</td>\n",
       "      <td>Flesh Tones: A Novel</td>\n",
       "      <td>M. J. Rose</td>\n",
       "      <td>2002</td>\n",
       "      <td>Ballantine Books</td>\n",
       "    </tr>\n",
       "  </tbody>\n",
       "</table>\n",
       "</div>"
      ],
      "text/plain": [
       "   User-ID        ISBN  Book-Rating            Book-Title Book-Author  \\\n",
       "0   276725  034545104X            0  Flesh Tones: A Novel  M. J. Rose   \n",
       "1     2313  034545104X            5  Flesh Tones: A Novel  M. J. Rose   \n",
       "2     6543  034545104X            0  Flesh Tones: A Novel  M. J. Rose   \n",
       "3     8680  034545104X            5  Flesh Tones: A Novel  M. J. Rose   \n",
       "4    10314  034545104X            9  Flesh Tones: A Novel  M. J. Rose   \n",
       "\n",
       "  Year-Of-Publication         Publisher  \n",
       "0                2002  Ballantine Books  \n",
       "1                2002  Ballantine Books  \n",
       "2                2002  Ballantine Books  \n",
       "3                2002  Ballantine Books  \n",
       "4                2002  Ballantine Books  "
      ]
     },
     "execution_count": 52,
     "metadata": {},
     "output_type": "execute_result"
    }
   ],
   "source": [
    "books_merge = pd.merge(ratings_dataset, books_dataset, on='ISBN').drop([\"Image-URL-M\", \"Image-URL-L\", \"Image-URL-S\"], axis=1)\n",
    "books_merge.head()"
   ]
  },
  {
   "cell_type": "code",
   "execution_count": 53,
   "id": "122f10c1-cb9b-4053-9ee4-29de7d7398d4",
   "metadata": {},
   "outputs": [],
   "source": [
    "users = books_merge[\"User-ID\"].unique()\n",
    "books = books_merge[\"ISBN\"].unique()\n",
    "shape = (len(users), len(books))"
   ]
  },
  {
   "cell_type": "code",
   "execution_count": 54,
   "id": "9443f783-14d0-432d-9b91-e110976eb327",
   "metadata": {},
   "outputs": [
    {
     "name": "stdout",
     "output_type": "stream",
     "text": [
      "Number of users that reviewed books 92106\n",
      "Number of books reviewed 270151\n"
     ]
    }
   ],
   "source": [
    "print(\"Number of users that reviewed books\", len(users))\n",
    "print(\"Number of books reviewed\", len(books))"
   ]
  },
  {
   "cell_type": "markdown",
   "id": "b4e7e285-07ae-419f-98ec-903a18f079d7",
   "metadata": {},
   "source": [
    "Look for the books who reviewed more than 200 users"
   ]
  },
  {
   "cell_type": "code",
   "execution_count": 55,
   "id": "0830274c-52ed-4222-9d15-2db2d2c62605",
   "metadata": {},
   "outputs": [
    {
     "name": "stdout",
     "output_type": "stream",
     "text": [
      "            User-ID\n",
      "ISBN               \n",
      "0060392452      283\n",
      "0060502258      376\n",
      "0060915544      244\n",
      "0060928336      732\n",
      "0060930535      494\n"
     ]
    }
   ],
   "source": [
    "workcount = books_merge[[\"ISBN\",\"User-ID\"]].groupby(\"ISBN\").count()\n",
    "workcount = workcount[workcount[\"User-ID\"] >= 200]\n",
    "print(workcount.head()) "
   ]
  },
  {
   "cell_type": "markdown",
   "id": "414cd231-c6f4-427d-a302-f7569fcb4131",
   "metadata": {},
   "source": [
    "Look for the users who reviewed more than 50 books"
   ]
  },
  {
   "cell_type": "code",
   "execution_count": 56,
   "id": "f0c981f2-debd-415f-ae2f-61ba799a8b86",
   "metadata": {},
   "outputs": [
    {
     "name": "stdout",
     "output_type": "stream",
     "text": [
      "         ISBN\n",
      "User-ID      \n",
      "243        79\n",
      "254       300\n",
      "507       129\n",
      "638        73\n",
      "643        56\n"
     ]
    }
   ],
   "source": [
    "usercount = books_merge[[\"ISBN\",\"User-ID\"]].groupby(\"User-ID\").count()\n",
    "usercount = usercount[usercount[\"ISBN\"] >= 50]\n",
    "print(usercount.head())"
   ]
  },
  {
   "cell_type": "code",
   "execution_count": 57,
   "id": "dc9135d5-48be-494d-904b-f919fd417d3b",
   "metadata": {},
   "outputs": [],
   "source": [
    "reviews = books_merge[books_merge[\"User-ID\"].isin(usercount.index) & books_merge[\"ISBN\"].isin(workcount.index)]"
   ]
  },
  {
   "cell_type": "code",
   "execution_count": 58,
   "id": "0ccd7910-79d8-4f35-914d-a182b11e58d5",
   "metadata": {},
   "outputs": [
    {
     "data": {
      "text/html": [
       "<div>\n",
       "<style scoped>\n",
       "    .dataframe tbody tr th:only-of-type {\n",
       "        vertical-align: middle;\n",
       "    }\n",
       "\n",
       "    .dataframe tbody tr th {\n",
       "        vertical-align: top;\n",
       "    }\n",
       "\n",
       "    .dataframe thead th {\n",
       "        text-align: right;\n",
       "    }\n",
       "</style>\n",
       "<table border=\"1\" class=\"dataframe\">\n",
       "  <thead>\n",
       "    <tr style=\"text-align: right;\">\n",
       "      <th></th>\n",
       "      <th>User-ID</th>\n",
       "      <th>ISBN</th>\n",
       "      <th>Book-Rating</th>\n",
       "      <th>Book-Title</th>\n",
       "      <th>Book-Author</th>\n",
       "      <th>Year-Of-Publication</th>\n",
       "      <th>Publisher</th>\n",
       "    </tr>\n",
       "  </thead>\n",
       "  <tbody>\n",
       "    <tr>\n",
       "      <th>1381</th>\n",
       "      <td>3675</td>\n",
       "      <td>0451166892</td>\n",
       "      <td>0</td>\n",
       "      <td>The Pillars of the Earth</td>\n",
       "      <td>Ken Follett</td>\n",
       "      <td>1996</td>\n",
       "      <td>Signet Book</td>\n",
       "    </tr>\n",
       "    <tr>\n",
       "      <th>1384</th>\n",
       "      <td>8019</td>\n",
       "      <td>0451166892</td>\n",
       "      <td>0</td>\n",
       "      <td>The Pillars of the Earth</td>\n",
       "      <td>Ken Follett</td>\n",
       "      <td>1996</td>\n",
       "      <td>Signet Book</td>\n",
       "    </tr>\n",
       "    <tr>\n",
       "      <th>1386</th>\n",
       "      <td>11629</td>\n",
       "      <td>0451166892</td>\n",
       "      <td>8</td>\n",
       "      <td>The Pillars of the Earth</td>\n",
       "      <td>Ken Follett</td>\n",
       "      <td>1996</td>\n",
       "      <td>Signet Book</td>\n",
       "    </tr>\n",
       "    <tr>\n",
       "      <th>1387</th>\n",
       "      <td>11676</td>\n",
       "      <td>0451166892</td>\n",
       "      <td>0</td>\n",
       "      <td>The Pillars of the Earth</td>\n",
       "      <td>Ken Follett</td>\n",
       "      <td>1996</td>\n",
       "      <td>Signet Book</td>\n",
       "    </tr>\n",
       "    <tr>\n",
       "      <th>1388</th>\n",
       "      <td>13582</td>\n",
       "      <td>0451166892</td>\n",
       "      <td>0</td>\n",
       "      <td>The Pillars of the Earth</td>\n",
       "      <td>Ken Follett</td>\n",
       "      <td>1996</td>\n",
       "      <td>Signet Book</td>\n",
       "    </tr>\n",
       "    <tr>\n",
       "      <th>...</th>\n",
       "      <td>...</td>\n",
       "      <td>...</td>\n",
       "      <td>...</td>\n",
       "      <td>...</td>\n",
       "      <td>...</td>\n",
       "      <td>...</td>\n",
       "      <td>...</td>\n",
       "    </tr>\n",
       "    <tr>\n",
       "      <th>352769</th>\n",
       "      <td>263877</td>\n",
       "      <td>0440212561</td>\n",
       "      <td>0</td>\n",
       "      <td>Outlander</td>\n",
       "      <td>DIANA GABALDON</td>\n",
       "      <td>1992</td>\n",
       "      <td>Dell</td>\n",
       "    </tr>\n",
       "    <tr>\n",
       "      <th>352772</th>\n",
       "      <td>269890</td>\n",
       "      <td>0440212561</td>\n",
       "      <td>6</td>\n",
       "      <td>Outlander</td>\n",
       "      <td>DIANA GABALDON</td>\n",
       "      <td>1992</td>\n",
       "      <td>Dell</td>\n",
       "    </tr>\n",
       "    <tr>\n",
       "      <th>352773</th>\n",
       "      <td>270713</td>\n",
       "      <td>0440212561</td>\n",
       "      <td>0</td>\n",
       "      <td>Outlander</td>\n",
       "      <td>DIANA GABALDON</td>\n",
       "      <td>1992</td>\n",
       "      <td>Dell</td>\n",
       "    </tr>\n",
       "    <tr>\n",
       "      <th>352774</th>\n",
       "      <td>275970</td>\n",
       "      <td>0440212561</td>\n",
       "      <td>0</td>\n",
       "      <td>Outlander</td>\n",
       "      <td>DIANA GABALDON</td>\n",
       "      <td>1992</td>\n",
       "      <td>Dell</td>\n",
       "    </tr>\n",
       "    <tr>\n",
       "      <th>352775</th>\n",
       "      <td>276231</td>\n",
       "      <td>0440212561</td>\n",
       "      <td>8</td>\n",
       "      <td>Outlander</td>\n",
       "      <td>DIANA GABALDON</td>\n",
       "      <td>1992</td>\n",
       "      <td>Dell</td>\n",
       "    </tr>\n",
       "  </tbody>\n",
       "</table>\n",
       "<p>34733 rows × 7 columns</p>\n",
       "</div>"
      ],
      "text/plain": [
       "        User-ID        ISBN  Book-Rating                Book-Title  \\\n",
       "1381       3675  0451166892            0  The Pillars of the Earth   \n",
       "1384       8019  0451166892            0  The Pillars of the Earth   \n",
       "1386      11629  0451166892            8  The Pillars of the Earth   \n",
       "1387      11676  0451166892            0  The Pillars of the Earth   \n",
       "1388      13582  0451166892            0  The Pillars of the Earth   \n",
       "...         ...         ...          ...                       ...   \n",
       "352769   263877  0440212561            0                 Outlander   \n",
       "352772   269890  0440212561            6                 Outlander   \n",
       "352773   270713  0440212561            0                 Outlander   \n",
       "352774   275970  0440212561            0                 Outlander   \n",
       "352775   276231  0440212561            8                 Outlander   \n",
       "\n",
       "           Book-Author Year-Of-Publication    Publisher  \n",
       "1381       Ken Follett                1996  Signet Book  \n",
       "1384       Ken Follett                1996  Signet Book  \n",
       "1386       Ken Follett                1996  Signet Book  \n",
       "1387       Ken Follett                1996  Signet Book  \n",
       "1388       Ken Follett                1996  Signet Book  \n",
       "...                ...                 ...          ...  \n",
       "352769  DIANA GABALDON                1992         Dell  \n",
       "352772  DIANA GABALDON                1992         Dell  \n",
       "352773  DIANA GABALDON                1992         Dell  \n",
       "352774  DIANA GABALDON                1992         Dell  \n",
       "352775  DIANA GABALDON                1992         Dell  \n",
       "\n",
       "[34733 rows x 7 columns]"
      ]
     },
     "execution_count": 58,
     "metadata": {},
     "output_type": "execute_result"
    }
   ],
   "source": [
    "reviews"
   ]
  },
  {
   "cell_type": "code",
   "execution_count": 59,
   "id": "c9239462-4b48-4cd2-9723-018ca607098a",
   "metadata": {},
   "outputs": [
    {
     "data": {
      "text/html": [
       "<div>\n",
       "<style scoped>\n",
       "    .dataframe tbody tr th:only-of-type {\n",
       "        vertical-align: middle;\n",
       "    }\n",
       "\n",
       "    .dataframe tbody tr th {\n",
       "        vertical-align: top;\n",
       "    }\n",
       "\n",
       "    .dataframe thead th {\n",
       "        text-align: right;\n",
       "    }\n",
       "</style>\n",
       "<table border=\"1\" class=\"dataframe\">\n",
       "  <thead>\n",
       "    <tr style=\"text-align: right;\">\n",
       "      <th></th>\n",
       "      <th>User-ID</th>\n",
       "      <th>Book-Rating</th>\n",
       "    </tr>\n",
       "  </thead>\n",
       "  <tbody>\n",
       "    <tr>\n",
       "      <th>count</th>\n",
       "      <td>34733.000000</td>\n",
       "      <td>34733.000000</td>\n",
       "    </tr>\n",
       "    <tr>\n",
       "      <th>mean</th>\n",
       "      <td>139413.545936</td>\n",
       "      <td>2.527884</td>\n",
       "    </tr>\n",
       "    <tr>\n",
       "      <th>std</th>\n",
       "      <td>80810.399796</td>\n",
       "      <td>3.838103</td>\n",
       "    </tr>\n",
       "    <tr>\n",
       "      <th>min</th>\n",
       "      <td>243.000000</td>\n",
       "      <td>0.000000</td>\n",
       "    </tr>\n",
       "    <tr>\n",
       "      <th>25%</th>\n",
       "      <td>69232.000000</td>\n",
       "      <td>0.000000</td>\n",
       "    </tr>\n",
       "    <tr>\n",
       "      <th>50%</th>\n",
       "      <td>137688.000000</td>\n",
       "      <td>0.000000</td>\n",
       "    </tr>\n",
       "    <tr>\n",
       "      <th>75%</th>\n",
       "      <td>211426.000000</td>\n",
       "      <td>7.000000</td>\n",
       "    </tr>\n",
       "    <tr>\n",
       "      <th>max</th>\n",
       "      <td>278843.000000</td>\n",
       "      <td>10.000000</td>\n",
       "    </tr>\n",
       "  </tbody>\n",
       "</table>\n",
       "</div>"
      ],
      "text/plain": [
       "             User-ID   Book-Rating\n",
       "count   34733.000000  34733.000000\n",
       "mean   139413.545936      2.527884\n",
       "std     80810.399796      3.838103\n",
       "min       243.000000      0.000000\n",
       "25%     69232.000000      0.000000\n",
       "50%    137688.000000      0.000000\n",
       "75%    211426.000000      7.000000\n",
       "max    278843.000000     10.000000"
      ]
     },
     "execution_count": 59,
     "metadata": {},
     "output_type": "execute_result"
    }
   ],
   "source": [
    "reviews.describe()"
   ]
  },
  {
   "cell_type": "code",
   "execution_count": 60,
   "id": "4991e62d-5ffa-4198-92a4-c60b7227c78e",
   "metadata": {},
   "outputs": [],
   "source": [
    "reviewmatrix = reviews.pivot(index=\"ISBN\", columns=\"User-ID\", values=\"Book-Rating\").fillna(0)"
   ]
  },
  {
   "cell_type": "code",
   "execution_count": 61,
   "id": "c44890b4-58ea-4cad-bb5a-3c5c509482e6",
   "metadata": {},
   "outputs": [
    {
     "data": {
      "text/plain": [
       "(194, 194)"
      ]
     },
     "execution_count": 61,
     "metadata": {},
     "output_type": "execute_result"
    }
   ],
   "source": [
    "from sklearn.metrics.pairwise import cosine_similarity\n",
    "similarity_scores = cosine_similarity(reviewmatrix)\n",
    "similarity_scores.shape"
   ]
  },
  {
   "cell_type": "code",
   "execution_count": 62,
   "id": "a07e5706-165f-40bf-b6ff-fcb1670afdd6",
   "metadata": {},
   "outputs": [
    {
     "data": {
      "text/plain": [
       "array([[1.        , 0.02702304, 0.05715617, ..., 0.        , 0.        ,\n",
       "        0.03945255],\n",
       "       [0.02702304, 1.        , 0.        , ..., 0.05991277, 0.0382255 ,\n",
       "        0.04458922],\n",
       "       [0.05715617, 0.        , 1.        , ..., 0.06498049, 0.01577568,\n",
       "        0.        ],\n",
       "       ...,\n",
       "       [0.        , 0.05991277, 0.06498049, ..., 1.        , 0.        ,\n",
       "        0.02227148],\n",
       "       [0.        , 0.0382255 , 0.01577568, ..., 0.        , 1.        ,\n",
       "        0.04085269],\n",
       "       [0.03945255, 0.04458922, 0.        , ..., 0.02227148, 0.04085269,\n",
       "        1.        ]])"
      ]
     },
     "execution_count": 62,
     "metadata": {},
     "output_type": "execute_result"
    }
   ],
   "source": [
    "similarity_scores"
   ]
  },
  {
   "cell_type": "code",
   "execution_count": 72,
   "id": "885c877f-16b2-4adb-886b-9a961f559c07",
   "metadata": {},
   "outputs": [
    {
     "name": "stdout",
     "output_type": "stream",
     "text": [
      "059035342X : Harry Potter and the Sorcerer's Stone (Harry Potter (Paperback))\n",
      "0439136369 : Harry Potter and the Prisoner of Azkaban (Book 3)\n",
      "0439064872 : Harry Potter and the Chamber of Secrets (Book 2)\n",
      "0064407667 : The Bad Beginning (A Series of Unfortunate Events, Book 1)\n",
      "0316769487 : The Catcher in the Rye\n"
     ]
    }
   ],
   "source": [
    "def recommend(book_name):\n",
    "    #index fetch\n",
    "    index = np.where(reviewmatrix.index==book_name)[0][0]\n",
    "    #distances = similarity_scores[index]\n",
    "    similar_items = sorted(list(enumerate(similarity_scores[index])), key=lambda x:x[1], reverse=True)[1:6]\n",
    "    for i in similar_items:\n",
    "        print(reviewmatrix.index[i[0]], \":\", books_merge[books_merge[\"ISBN\"]==reviewmatrix.index[i[0]]][\"Book-Title\"].iloc[0])\n",
    "    #return suggestions\n",
    "\n",
    "recommend(\"043935806X\")"
   ]
  },
  {
   "cell_type": "markdown",
   "id": "04eafc15-202f-4545-ba45-680a711f4883",
   "metadata": {},
   "source": [
    "## Model based Recommendation System"
   ]
  },
  {
   "cell_type": "markdown",
   "id": "9b5ad8fa-4cad-419e-a2b7-b713ff58ccff",
   "metadata": {},
   "source": [
    "Singular value decomposition is a very popular linear algebra technique to break down a matrix into the product of a few smaller matrices. In fact, it is a technique that has many uses. One example is that we can use SVD to discover relationship between items. A recommender system can be build easily from this."
   ]
  },
  {
   "cell_type": "code",
   "execution_count": 35,
   "id": "926216b3-f9bb-4aef-a0fa-bbe47d80f8e8",
   "metadata": {},
   "outputs": [],
   "source": [
    "minimum_rating = min(books_merge['Book-Rating'].values)\n",
    "maximum_rating = max(books_merge['Book-Rating'].values)"
   ]
  },
  {
   "cell_type": "code",
   "execution_count": 36,
   "id": "bade9052-88fd-4ed9-bfe1-bf83cd20bb09",
   "metadata": {},
   "outputs": [
    {
     "data": {
      "text/plain": [
       "0"
      ]
     },
     "execution_count": 36,
     "metadata": {},
     "output_type": "execute_result"
    }
   ],
   "source": [
    "minimum_rating"
   ]
  },
  {
   "cell_type": "code",
   "execution_count": 37,
   "id": "ea681d96-63f1-48a2-8d6e-76bdce97cbfa",
   "metadata": {},
   "outputs": [
    {
     "data": {
      "text/plain": [
       "10"
      ]
     },
     "execution_count": 37,
     "metadata": {},
     "output_type": "execute_result"
    }
   ],
   "source": [
    "maximum_rating\n"
   ]
  },
  {
   "cell_type": "code",
   "execution_count": 39,
   "id": "475b73d8-e31f-47b5-9702-56c6a37a5a35",
   "metadata": {},
   "outputs": [],
   "source": [
    "reader = Reader(rating_scale=(minimum_rating, maximum_rating))\n",
    "data = Dataset.load_from_df(books_merge[['User-ID', 'ISBN', 'Book-Rating']], reader)"
   ]
  },
  {
   "cell_type": "markdown",
   "id": "0f2efdc8-fd34-4990-bb40-ecec4d7a2478",
   "metadata": {},
   "source": [
    "Imagine we collected some book reviews such that books are columns and people are rows, and the entries are the ratings that a person gave to a book. In that case,  would be a table of person-to-person which the entries would mean the sum of the ratings one person gave match with another one. Similarly  would be a table of book-to-book which entries are the sum of the ratings received match with that received by another book. What can be the hidden connection between people and books? That could be the genre, or the author, or something of similar nature."
   ]
  },
  {
   "cell_type": "code",
   "execution_count": 42,
   "id": "7eb09a4a-2197-48ab-907c-3c786e6d290f",
   "metadata": {},
   "outputs": [
    {
     "name": "stdout",
     "output_type": "stream",
     "text": [
      "Evaluating RMSE, MAE of algorithm SVD on 10 split(s).\n",
      "\n",
      "                  Fold 1  Fold 2  Fold 3  Fold 4  Fold 5  Fold 6  Fold 7  Fold 8  Fold 9  Fold 10 Mean    Std     \n",
      "RMSE (testset)    3.4580  3.4563  3.4535  3.4602  3.4527  3.4554  3.4535  3.4456  3.4611  3.4531  3.4549  0.0042  \n",
      "MAE (testset)     2.7889  2.7908  2.7904  2.7911  2.7885  2.7837  2.7882  2.7802  2.7950  2.7886  2.7885  0.0039  \n",
      "Fit time          9.40    10.02   10.08   10.21   10.13   10.32   11.55   11.20   10.85   10.68   10.44   0.60    \n",
      "Test time         1.40    0.81    0.81    0.81    1.43    0.82    0.89    1.46    0.93    0.95    1.03    0.27    \n"
     ]
    }
   ],
   "source": [
    "svd = SVD(n_epochs=10)\n",
    "results = cross_validate(svd, data, measures=['RMSE', 'MAE'], cv=10, verbose=True)"
   ]
  },
  {
   "cell_type": "code",
   "execution_count": 44,
   "id": "e6454f64-4173-43c5-9bbe-5c550ec28692",
   "metadata": {},
   "outputs": [
    {
     "name": "stdout",
     "output_type": "stream",
     "text": [
      "Average MAE:  2.788539949337383\n",
      "Average RMSE:  3.454944408026401\n"
     ]
    }
   ],
   "source": [
    "print(\"Average MAE: \", np.average(results[\"test_mae\"]))\n",
    "print(\"Average RMSE: \", np.average(results[\"test_rmse\"]))"
   ]
  },
  {
   "cell_type": "code",
   "execution_count": 45,
   "id": "f128d33c-425f-49e7-a8b0-57074a60e83e",
   "metadata": {},
   "outputs": [
    {
     "name": "stdout",
     "output_type": "stream",
     "text": [
      "3.41810298604499\n",
      "{'n_factors': 20, 'n_epochs': 5}\n"
     ]
    }
   ],
   "source": [
    "param_grid = {\n",
    "  'n_factors': [20, 50, 100],\n",
    "  'n_epochs': [5, 10, 20]\n",
    "}\n",
    " \n",
    "gs = GridSearchCV(SVD, param_grid, measures=['rmse', 'mae'], cv=10)\n",
    "gs.fit(data)\n",
    " \n",
    "print(gs.best_score['rmse'])\n",
    "print(gs.best_params['rmse'])"
   ]
  },
  {
   "cell_type": "code",
   "execution_count": 47,
   "id": "3b51bc9a-0df2-474d-82bd-b1e12276d6e5",
   "metadata": {},
   "outputs": [
    {
     "data": {
      "text/plain": [
       "<surprise.prediction_algorithms.matrix_factorization.SVD at 0x148828382b0>"
      ]
     },
     "execution_count": 47,
     "metadata": {},
     "output_type": "execute_result"
    }
   ],
   "source": [
    "# best hyperparameters\n",
    "best_factor = gs.best_params['rmse']['n_factors']\n",
    "best_epoch = gs.best_params['rmse']['n_epochs']\n",
    " \n",
    "# sample random trainset and testset\n",
    "# test set is made of 20% of the ratings.\n",
    "trainset, testset = train_test_split(data, test_size=.20)\n",
    " \n",
    "# We'll use the famous SVD algorithm.\n",
    "svd = SVD(n_factors=best_factor, n_epochs=best_epoch)\n",
    " \n",
    "# Train the algorithm on the trainset\n",
    "svd.fit(trainset)"
   ]
  },
  {
   "cell_type": "code",
   "execution_count": 51,
   "id": "51719925-e964-484f-baf3-61751b5c74f4",
   "metadata": {},
   "outputs": [
    {
     "name": "stdout",
     "output_type": "stream",
     "text": [
      "Top 10 item recommendations for user 276939:\n",
      "Free 6.34179362157296\n",
      "The Lovely Bones: A Novel 6.139482196116683\n",
      "Harry Potter and the Goblet of Fire (Book 4) 6.0694593999881015\n",
      "Harry Potter and the Prisoner of Azkaban (Book 3) 6.0395173684029695\n",
      "Harry Potter and the Sorcerer's Stone (Book 1) 6.001501561252589\n",
      "Harry Potter and the Chamber of Secrets (Book 2) 5.913136082575046\n",
      "Ender's Game (Ender Wiggins Saga (Paperback)) 5.758473201518409\n",
      "To Kill a Mockingbird 5.737388776628223\n",
      "Harry Potter and the Order of the Phoenix (Book 5) 5.623799395684434\n",
      "The Little Prince 5.549273723252941\n"
     ]
    }
   ],
   "source": [
    "def generate_recommendation(model, user_id, books_merge, n_items):\n",
    "   # Get a list of all movie IDs from dataset\n",
    "   books_ids =  books_merge[\"ISBN\"].unique()\n",
    " \n",
    "   # Get a list of all movie IDs that have been watched by user\n",
    "   books_ids_user = books_merge.loc[ books_merge[\"User-ID\"] == user_id, \"ISBN\"]\n",
    "    # Get a list off all movie IDS that that have not been watched by user\n",
    "   movie_ids_to_pred = np.setdiff1d(books_ids, books_ids_user)\n",
    " \n",
    "   # Apply a rating of 4 to all interactions (only to match the Surprise dataset format)\n",
    "   test_set = [[user_id, movie_id, 4] for movie_id in movie_ids_to_pred]\n",
    " \n",
    "   # Predict the ratings and generate recommendations\n",
    "   predictions = model.test(test_set)\n",
    "   pred_ratings = np.array([pred.est for pred in predictions])\n",
    "   print(\"Top {0} item recommendations for user {1}:\".format(n_items, user_id))\n",
    "   # Rank top-n movies based on the predicted ratings\n",
    "   index_max = (-pred_ratings).argsort()[:n_items]\n",
    "   for i in index_max:\n",
    "       movie_id = movie_ids_to_pred[i]\n",
    "       print(books_merge[books_merge[\"ISBN\"]==movie_id][\"Book-Title\"].values[0], pred_ratings[i])\n",
    " \n",
    " \n",
    "# define which user ID that we want to give recommendation\n",
    "userID = 276939\n",
    "# define how many top-n movies that we want to recommend\n",
    "n_items = 10\n",
    "# generate recommendation using the model that we have trained\n",
    "generate_recommendation(svd,userID,books_merge,n_items)"
   ]
  }
 ],
 "metadata": {
  "kernelspec": {
   "display_name": "Python 3 (ipykernel)",
   "language": "python",
   "name": "python3"
  },
  "language_info": {
   "codemirror_mode": {
    "name": "ipython",
    "version": 3
   },
   "file_extension": ".py",
   "mimetype": "text/x-python",
   "name": "python",
   "nbconvert_exporter": "python",
   "pygments_lexer": "ipython3",
   "version": "3.8.15"
  }
 },
 "nbformat": 4,
 "nbformat_minor": 5
}
